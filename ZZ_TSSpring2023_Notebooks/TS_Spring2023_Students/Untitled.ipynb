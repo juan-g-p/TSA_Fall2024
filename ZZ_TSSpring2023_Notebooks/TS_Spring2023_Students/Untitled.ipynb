{
 "cells": [
  {
   "cell_type": "code",
   "execution_count": 6,
   "id": "28037205-6e8e-4279-9c41-4b47f1df7470",
   "metadata": {
    "tags": []
   },
   "outputs": [
    {
     "name": "stdout",
     "output_type": "stream",
     "text": [
      "Requirement already satisfied: scikit-learn in c:\\users\\juang\\appdata\\local\\programs\\python\\python311\\lib\\site-packages (1.2.1)\n",
      "Collecting scikit-learn\n",
      "  Downloading scikit_learn-1.2.2-cp311-cp311-win_amd64.whl (8.3 MB)\n",
      "     ---------------------------------------- 0.0/8.3 MB ? eta -:--:--\n",
      "     ---------------------------------------- 0.0/8.3 MB 1.3 MB/s eta 0:00:07\n",
      "     ---------------------------------------- 0.1/8.3 MB 1.1 MB/s eta 0:00:08\n",
      "      --------------------------------------- 0.2/8.3 MB 1.8 MB/s eta 0:00:05\n",
      "     - -------------------------------------- 0.3/8.3 MB 2.0 MB/s eta 0:00:05\n",
      "     -- ------------------------------------- 0.5/8.3 MB 2.3 MB/s eta 0:00:04\n",
      "     --- ------------------------------------ 0.6/8.3 MB 2.5 MB/s eta 0:00:04\n",
      "     --- ------------------------------------ 0.8/8.3 MB 2.5 MB/s eta 0:00:03\n",
      "     ---- ----------------------------------- 0.9/8.3 MB 2.7 MB/s eta 0:00:03\n",
      "     ----- ---------------------------------- 1.1/8.3 MB 2.7 MB/s eta 0:00:03\n",
      "     ------ --------------------------------- 1.3/8.3 MB 2.9 MB/s eta 0:00:03\n",
      "     ------ --------------------------------- 1.4/8.3 MB 2.8 MB/s eta 0:00:03\n",
      "     ------- -------------------------------- 1.5/8.3 MB 2.8 MB/s eta 0:00:03\n",
      "     -------- ------------------------------- 1.7/8.3 MB 2.9 MB/s eta 0:00:03\n",
      "     -------- ------------------------------- 1.8/8.3 MB 2.8 MB/s eta 0:00:03\n",
      "     --------- ------------------------------ 2.1/8.3 MB 3.0 MB/s eta 0:00:03\n",
      "     ---------- ----------------------------- 2.2/8.3 MB 3.0 MB/s eta 0:00:03\n",
      "     ----------- ---------------------------- 2.4/8.3 MB 3.2 MB/s eta 0:00:02\n",
      "     ------------ --------------------------- 2.6/8.3 MB 3.2 MB/s eta 0:00:02\n",
      "     ------------- -------------------------- 2.7/8.3 MB 3.2 MB/s eta 0:00:02\n",
      "     -------------- ------------------------- 2.9/8.3 MB 3.2 MB/s eta 0:00:02\n",
      "     --------------- ------------------------ 3.2/8.3 MB 3.3 MB/s eta 0:00:02\n",
      "     ---------------- ----------------------- 3.4/8.3 MB 3.4 MB/s eta 0:00:02\n",
      "     ----------------- ---------------------- 3.6/8.3 MB 3.4 MB/s eta 0:00:02\n",
      "     ------------------ --------------------- 3.8/8.3 MB 3.5 MB/s eta 0:00:02\n",
      "     ------------------- -------------------- 4.1/8.3 MB 3.5 MB/s eta 0:00:02\n",
      "     -------------------- ------------------- 4.2/8.3 MB 3.6 MB/s eta 0:00:02\n",
      "     --------------------- ------------------ 4.5/8.3 MB 3.6 MB/s eta 0:00:02\n",
      "     ---------------------- ----------------- 4.7/8.3 MB 3.7 MB/s eta 0:00:01\n",
      "     ----------------------- ---------------- 4.9/8.3 MB 3.7 MB/s eta 0:00:01\n",
      "     ------------------------- -------------- 5.2/8.3 MB 3.8 MB/s eta 0:00:01\n",
      "     -------------------------- ------------- 5.4/8.3 MB 3.8 MB/s eta 0:00:01\n",
      "     --------------------------- ------------ 5.6/8.3 MB 3.8 MB/s eta 0:00:01\n",
      "     ---------------------------- ----------- 5.9/8.3 MB 3.9 MB/s eta 0:00:01\n",
      "     ----------------------------- ---------- 6.1/8.3 MB 3.8 MB/s eta 0:00:01\n",
      "     ------------------------------ --------- 6.2/8.3 MB 3.8 MB/s eta 0:00:01\n",
      "     ------------------------------ --------- 6.4/8.3 MB 3.8 MB/s eta 0:00:01\n",
      "     ------------------------------- -------- 6.5/8.3 MB 3.8 MB/s eta 0:00:01\n",
      "     -------------------------------- ------- 6.7/8.3 MB 3.8 MB/s eta 0:00:01\n",
      "     --------------------------------- ------ 6.9/8.3 MB 3.7 MB/s eta 0:00:01\n",
      "     --------------------------------- ------ 7.0/8.3 MB 3.7 MB/s eta 0:00:01\n",
      "     ---------------------------------- ----- 7.2/8.3 MB 3.8 MB/s eta 0:00:01\n",
      "     ----------------------------------- ---- 7.4/8.3 MB 3.8 MB/s eta 0:00:01\n",
      "     ------------------------------------ --- 7.5/8.3 MB 3.8 MB/s eta 0:00:01\n",
      "     ------------------------------------- -- 7.8/8.3 MB 3.8 MB/s eta 0:00:01\n",
      "     ---------------------------------------  8.2/8.3 MB 3.9 MB/s eta 0:00:01\n",
      "     ---------------------------------------  8.3/8.3 MB 3.9 MB/s eta 0:00:01\n",
      "     ---------------------------------------- 8.3/8.3 MB 3.8 MB/s eta 0:00:00\n",
      "Requirement already satisfied: numpy>=1.17.3 in c:\\users\\juang\\appdata\\local\\programs\\python\\python311\\lib\\site-packages (from scikit-learn) (1.24.1)\n",
      "Requirement already satisfied: scipy>=1.3.2 in c:\\users\\juang\\appdata\\local\\programs\\python\\python311\\lib\\site-packages (from scikit-learn) (1.10.0)\n",
      "Requirement already satisfied: joblib>=1.1.1 in c:\\users\\juang\\appdata\\local\\programs\\python\\python311\\lib\\site-packages (from scikit-learn) (1.2.0)\n",
      "Requirement already satisfied: threadpoolctl>=2.0.0 in c:\\users\\juang\\appdata\\local\\programs\\python\\python311\\lib\\site-packages (from scikit-learn) (3.1.0)\n",
      "Installing collected packages: scikit-learn\n",
      "  Attempting uninstall: scikit-learn\n",
      "    Found existing installation: scikit-learn 1.2.1\n",
      "    Uninstalling scikit-learn-1.2.1:\n",
      "      Successfully uninstalled scikit-learn-1.2.1\n"
     ]
    },
    {
     "name": "stderr",
     "output_type": "stream",
     "text": [
      "ERROR: Could not install packages due to an OSError: [WinError 5] Access is denied: 'C:\\\\Users\\\\juang\\\\AppData\\\\Local\\\\Programs\\\\Python\\\\Python311\\\\Lib\\\\site-packages\\\\~klearn\\\\.libs\\\\msvcp140.dll'\n",
      "Consider using the `--user` option or check the permissions.\n",
      "\n"
     ]
    }
   ],
   "source": [
    "!pip install -U scikit-learn"
   ]
  },
  {
   "cell_type": "code",
   "execution_count": 4,
   "id": "080fd683-c579-4b80-8246-654bdaf5defd",
   "metadata": {
    "tags": []
   },
   "outputs": [
    {
     "name": "stdout",
     "output_type": "stream",
     "text": [
      "Collecting seaborn\n",
      "  Downloading seaborn-0.12.2-py3-none-any.whl (293 kB)\n",
      "     ---------------------------------------- 0.0/293.3 kB ? eta -:--:--\n",
      "     ---- ---------------------------------- 30.7/293.3 kB 1.3 MB/s eta 0:00:01\n",
      "     -------------- ----------------------- 112.6/293.3 kB 1.3 MB/s eta 0:00:01\n",
      "     ----------------------------- -------- 225.3/293.3 kB 1.7 MB/s eta 0:00:01\n",
      "     -------------------------------------- 293.3/293.3 kB 1.8 MB/s eta 0:00:00\n",
      "Requirement already satisfied: numpy!=1.24.0,>=1.17 in c:\\users\\juang\\appdata\\local\\programs\\python\\python311\\lib\\site-packages (from seaborn) (1.24.1)\n",
      "Requirement already satisfied: pandas>=0.25 in c:\\users\\juang\\appdata\\local\\programs\\python\\python311\\lib\\site-packages (from seaborn) (1.5.3)\n",
      "Requirement already satisfied: matplotlib!=3.6.1,>=3.1 in c:\\users\\juang\\appdata\\local\\programs\\python\\python311\\lib\\site-packages (from seaborn) (3.6.3)\n",
      "Requirement already satisfied: contourpy>=1.0.1 in c:\\users\\juang\\appdata\\local\\programs\\python\\python311\\lib\\site-packages (from matplotlib!=3.6.1,>=3.1->seaborn) (1.0.7)\n",
      "Requirement already satisfied: cycler>=0.10 in c:\\users\\juang\\appdata\\local\\programs\\python\\python311\\lib\\site-packages (from matplotlib!=3.6.1,>=3.1->seaborn) (0.11.0)\n",
      "Requirement already satisfied: fonttools>=4.22.0 in c:\\users\\juang\\appdata\\local\\programs\\python\\python311\\lib\\site-packages (from matplotlib!=3.6.1,>=3.1->seaborn) (4.38.0)\n",
      "Requirement already satisfied: kiwisolver>=1.0.1 in c:\\users\\juang\\appdata\\local\\programs\\python\\python311\\lib\\site-packages (from matplotlib!=3.6.1,>=3.1->seaborn) (1.4.4)\n",
      "Requirement already satisfied: packaging>=20.0 in c:\\users\\juang\\appdata\\roaming\\python\\python311\\site-packages (from matplotlib!=3.6.1,>=3.1->seaborn) (22.0)\n",
      "Requirement already satisfied: pillow>=6.2.0 in c:\\users\\juang\\appdata\\local\\programs\\python\\python311\\lib\\site-packages (from matplotlib!=3.6.1,>=3.1->seaborn) (9.4.0)\n",
      "Requirement already satisfied: pyparsing>=2.2.1 in c:\\users\\juang\\appdata\\local\\programs\\python\\python311\\lib\\site-packages (from matplotlib!=3.6.1,>=3.1->seaborn) (3.0.9)\n",
      "Requirement already satisfied: python-dateutil>=2.7 in c:\\users\\juang\\appdata\\roaming\\python\\python311\\site-packages (from matplotlib!=3.6.1,>=3.1->seaborn) (2.8.2)\n",
      "Requirement already satisfied: pytz>=2020.1 in c:\\users\\juang\\appdata\\local\\programs\\python\\python311\\lib\\site-packages (from pandas>=0.25->seaborn) (2022.7.1)\n",
      "Requirement already satisfied: six>=1.5 in c:\\users\\juang\\appdata\\roaming\\python\\python311\\site-packages (from python-dateutil>=2.7->matplotlib!=3.6.1,>=3.1->seaborn) (1.16.0)\n",
      "Installing collected packages: seaborn\n",
      "Successfully installed seaborn-0.12.2\n"
     ]
    }
   ],
   "source": [
    "!pip install seaborn"
   ]
  },
  {
   "cell_type": "code",
   "execution_count": 5,
   "id": "46d8789b-8bf5-4495-b62c-5e9a8b508a91",
   "metadata": {
    "tags": []
   },
   "outputs": [
    {
     "ename": "ModuleNotFoundError",
     "evalue": "No module named 'sklearn.datasets.samples_generator'",
     "output_type": "error",
     "traceback": [
      "\u001b[1;31m---------------------------------------------------------------------------\u001b[0m",
      "\u001b[1;31mModuleNotFoundError\u001b[0m                       Traceback (most recent call last)",
      "Cell \u001b[1;32mIn[5], line 8\u001b[0m\n\u001b[0;32m      6\u001b[0m \u001b[38;5;28;01mfrom\u001b[39;00m \u001b[38;5;21;01mipywidgets\u001b[39;00m \u001b[38;5;28;01mimport\u001b[39;00m interact\n\u001b[0;32m      7\u001b[0m \u001b[38;5;28;01mfrom\u001b[39;00m \u001b[38;5;21;01msklearn\u001b[39;00m\u001b[38;5;21;01m.\u001b[39;00m\u001b[38;5;21;01mmetrics\u001b[39;00m \u001b[38;5;28;01mimport\u001b[39;00m pairwise_distances_argmin\n\u001b[1;32m----> 8\u001b[0m \u001b[38;5;28;01mfrom\u001b[39;00m \u001b[38;5;21;01msklearn\u001b[39;00m\u001b[38;5;21;01m.\u001b[39;00m\u001b[38;5;21;01mdatasets\u001b[39;00m\u001b[38;5;21;01m.\u001b[39;00m\u001b[38;5;21;01msamples_generator\u001b[39;00m \u001b[38;5;28;01mimport\u001b[39;00m make_blobs\n\u001b[0;32m     10\u001b[0m \u001b[38;5;28;01mdef\u001b[39;00m \u001b[38;5;21mplot_kmeans_interactive\u001b[39m(min_clusters\u001b[38;5;241m=\u001b[39m\u001b[38;5;241m1\u001b[39m, max_clusters\u001b[38;5;241m=\u001b[39m\u001b[38;5;241m6\u001b[39m):\n\u001b[0;32m     11\u001b[0m     X, y \u001b[38;5;241m=\u001b[39m make_blobs(n_samples\u001b[38;5;241m=\u001b[39m\u001b[38;5;241m300\u001b[39m, centers\u001b[38;5;241m=\u001b[39m\u001b[38;5;241m4\u001b[39m,\n\u001b[0;32m     12\u001b[0m                       random_state\u001b[38;5;241m=\u001b[39m\u001b[38;5;241m0\u001b[39m, cluster_std\u001b[38;5;241m=\u001b[39m\u001b[38;5;241m0.60\u001b[39m)\n",
      "\u001b[1;31mModuleNotFoundError\u001b[0m: No module named 'sklearn.datasets.samples_generator'"
     ]
    }
   ],
   "source": [
    "%matplotlib inline\n",
    "import matplotlib.pyplot as plt\n",
    "import seaborn; seaborn.set()  # for plot styling\n",
    "import numpy as np\n",
    "\n",
    "from ipywidgets import interact\n",
    "from sklearn.metrics import pairwise_distances_argmin\n",
    "from sklearn.datasets.samples_generator import make_blobs\n",
    "\n",
    "def plot_kmeans_interactive(min_clusters=1, max_clusters=6):\n",
    "    X, y = make_blobs(n_samples=300, centers=4,\n",
    "                      random_state=0, cluster_std=0.60)\n",
    "        \n",
    "    def plot_points(X, labels, n_clusters):\n",
    "        plt.scatter(X[:, 0], X[:, 1], c=labels, s=50, cmap='viridis',\n",
    "                    vmin=0, vmax=n_clusters - 1);\n",
    "            \n",
    "    def plot_centers(centers):\n",
    "        plt.scatter(centers[:, 0], centers[:, 1], marker='o',\n",
    "                    c=np.arange(centers.shape[0]),\n",
    "                    s=200, cmap='viridis')\n",
    "        plt.scatter(centers[:, 0], centers[:, 1], marker='o',\n",
    "                    c='black', s=50)\n",
    "            \n",
    "\n",
    "    def _kmeans_step(frame=0, n_clusters=4):\n",
    "        rng = np.random.RandomState(2)\n",
    "        labels = np.zeros(X.shape[0])\n",
    "        centers = rng.randn(n_clusters, 2)\n",
    "\n",
    "        nsteps = frame // 3\n",
    "\n",
    "        for i in range(nsteps + 1):\n",
    "            old_centers = centers\n",
    "            if i < nsteps or frame % 3 > 0:\n",
    "                labels = pairwise_distances_argmin(X, centers)\n",
    "\n",
    "            if i < nsteps or frame % 3 > 1:\n",
    "                centers = np.array([X[labels == j].mean(0)\n",
    "                                    for j in range(n_clusters)])\n",
    "                nans = np.isnan(centers)\n",
    "                centers[nans] = old_centers[nans]\n",
    "\n",
    "        # plot the data and cluster centers\n",
    "        plot_points(X, labels, n_clusters)\n",
    "        plot_centers(old_centers)\n",
    "\n",
    "        # plot new centers if third frame\n",
    "        if frame % 3 == 2:\n",
    "            for i in range(n_clusters):\n",
    "                plt.annotate('', centers[i], old_centers[i], \n",
    "                             arrowprops=dict(arrowstyle='->', linewidth=1))\n",
    "            plot_centers(centers)\n",
    "\n",
    "        plt.xlim(-4, 4)\n",
    "        plt.ylim(-2, 10)\n",
    "\n",
    "        if frame % 3 == 1:\n",
    "            plt.text(3.8, 9.5, \"1. Reassign points to nearest centroid\",\n",
    "                     ha='right', va='top', size=14)\n",
    "        elif frame % 3 == 2:\n",
    "            plt.text(3.8, 9.5, \"2. Update centroids to cluster means\",\n",
    "                     ha='right', va='top', size=14)\n",
    "    \n",
    "    return interact(_kmeans_step, frame=[0, 50],\n",
    "                    n_clusters=[min_clusters, max_clusters])\n",
    "\n",
    "plot_kmeans_interactive();"
   ]
  }
 ],
 "metadata": {
  "kernelspec": {
   "display_name": "Python 3 (ipykernel)",
   "language": "python",
   "name": "python3"
  },
  "language_info": {
   "codemirror_mode": {
    "name": "ipython",
    "version": 3
   },
   "file_extension": ".py",
   "mimetype": "text/x-python",
   "name": "python",
   "nbconvert_exporter": "python",
   "pygments_lexer": "ipython3",
   "version": "3.11.1"
  }
 },
 "nbformat": 4,
 "nbformat_minor": 5
}
