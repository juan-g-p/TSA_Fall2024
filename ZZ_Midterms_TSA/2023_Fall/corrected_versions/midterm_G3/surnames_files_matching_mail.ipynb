{
 "cells": [
  {
   "cell_type": "code",
   "execution_count": 27,
   "id": "0cf65d28-ddd4-4602-b459-6a0d0eaca727",
   "metadata": {},
   "outputs": [
    {
     "data": {
      "text/plain": [
       "41"
      ]
     },
     "execution_count": 27,
     "metadata": {},
     "output_type": "execute_result"
    }
   ],
   "source": [
    "import os\n",
    "import unicodedata\n",
    "from openpyxl import load_workbook\n",
    "\n",
    "# Function to remove accents and convert to lowercase\n",
    "def remove_accents(input_str):\n",
    "    nfkd_form = unicodedata.normalize('NFKD', input_str)\n",
    "    only_base_chars = \"\".join([c for c in nfkd_form if not unicodedata.combining(c)])\n",
    "    return only_base_chars.lower()  # Ensure comparison is case-insensitive\n",
    "\n",
    "# Load the workbook\n",
    "file_path = 'ZZ_TSA_G3_Midterm_F2023.xlsm'\n",
    "wb = load_workbook(filename=file_path, keep_vba=True)\n",
    "\n",
    "# Access the named range \"surnames\"\n",
    "named_range = wb.defined_names['surnames']\n",
    "\n",
    "# Extract the cell values from the named range into a list, excluding None values and removing accents\n",
    "surnames_list = [remove_accents(cell.value) for title, coord in named_range.destinations\n",
    "                 for row in wb[title][coord] for cell in row if cell.value is not None]\n",
    "\n",
    "# Close the workbook\n",
    "wb.close()\n",
    "\n",
    "# Dictionary to hold the mapping of surnames to files\n",
    "surnames_files = {}\n",
    "\n",
    "# Directory where the files are located\n",
    "feedback_dir = 'feedback'\n",
    "\n",
    "# Iterate over files in the 'feedback' directory\n",
    "for filename in os.listdir(feedback_dir):\n",
    "    # Check if the file starts with 'corrected'\n",
    "    if filename.startswith('corrected'):\n",
    "        # Clean the filename by removing accents and converting to lowercase\n",
    "        cleaned_filename = remove_accents(filename)\n",
    "\n",
    "        # Check if any of the surnames is contained in the cleaned file name\n",
    "        for surname in surnames_list:\n",
    "            if surname.lower() in cleaned_filename.lower():\n",
    "                # Add the entry to the dictionary: {surname: original file name}\n",
    "                surnames_files[surname] = filename\n",
    "                break  # Assuming only one surname per file for efficiency\n",
    "\n",
    "# Print the resulting dictionary\n",
    "len(surnames_files.keys())\n",
    "len(surnames_list)"
   ]
  },
  {
   "cell_type": "code",
   "execution_count": 29,
   "id": "65db1122-2168-4da3-8b2a-00f5efd70b1c",
   "metadata": {},
   "outputs": [
    {
     "data": {
      "text/plain": [
       "{'diaz tamayo', 'narberhaus piera'}"
      ]
     },
     "execution_count": 29,
     "metadata": {},
     "output_type": "execute_result"
    }
   ],
   "source": [
    "# De este tengo el examen de uno en mi portátil.\n",
    "# El otro hizo un examen de recuperación.\n",
    "files = list(surnames_files.keys())\n",
    "set(surnames_list) - set(files)"
   ]
  },
  {
   "cell_type": "markdown",
   "id": "174f5260-7a58-4df2-9c52-2eaabe409c78",
   "metadata": {},
   "source": [
    "TODO:\n",
    "- Tenemos correspondencia apellido - archivo - awesome\n",
    "\n",
    "- RESTA: otra correspondencia apellido e-mail (otro diccionario). Tan fácil como extraerlo del excel.\n",
    "\n",
    "- FINALMENTE:\n",
    "- Para cada apellido en el diccionario surname_files:\n",
    "   * Obtener el correspndiente e-mail.\n",
    "   * Mandar e-mail con el archivo asociado.\n",
    " \n",
    "Y a pastar"
   ]
  }
 ],
 "metadata": {
  "kernelspec": {
   "display_name": "Python 3 (ipykernel)",
   "language": "python",
   "name": "python3"
  },
  "language_info": {
   "codemirror_mode": {
    "name": "ipython",
    "version": 3
   },
   "file_extension": ".py",
   "mimetype": "text/x-python",
   "name": "python",
   "nbconvert_exporter": "python",
   "pygments_lexer": "ipython3",
   "version": "3.10.11"
  }
 },
 "nbformat": 4,
 "nbformat_minor": 5
}
